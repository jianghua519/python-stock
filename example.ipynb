{
 "cells": [
  {
   "cell_type": "code",
   "execution_count": 1,
   "id": "308b227a-6e66-4b40-a87f-86220a2b2a99",
   "metadata": {},
   "outputs": [],
   "source": [
    "import requests"
   ]
  },
  {
   "cell_type": "code",
   "execution_count": 2,
   "id": "0160a3c4-4595-47aa-90d9-b364bb73cd8f",
   "metadata": {},
   "outputs": [],
   "source": [
    "import json"
   ]
  },
  {
   "cell_type": "code",
   "execution_count": 3,
   "id": "ea013d3c-b871-4ec8-8e74-270b8e5dd067",
   "metadata": {},
   "outputs": [],
   "source": [
    "from kafka import KafkaProducer"
   ]
  },
  {
   "cell_type": "code",
   "execution_count": 6,
   "id": "b7ee8224-8bb6-4715-901d-6afba8275da9",
   "metadata": {},
   "outputs": [],
   "source": [
    "import schedule"
   ]
  },
  {
   "cell_type": "code",
   "execution_count": 7,
   "id": "8e36a90c-ace7-467f-80ad-a2d6c7e095c3",
   "metadata": {},
   "outputs": [],
   "source": [
    "import time"
   ]
  },
  {
   "cell_type": "code",
   "execution_count": 18,
   "id": "d480ca0b-86dc-4b59-8744-5df59df0aa98",
   "metadata": {},
   "outputs": [],
   "source": [
    "# Kafka 配置\n",
    "KAFKA_SERVER = \"kafka:9092\"\n",
    "KAFKA_TOPIC = \"stock_data\""
   ]
  },
  {
   "cell_type": "code",
   "execution_count": 9,
   "id": "ca2b4dd3-fd87-4a51-8b16-008410bb341f",
   "metadata": {},
   "outputs": [],
   "source": [
    "# API 配置\n",
    "API_URL = \"https://news.yahoo.co.jp/pickup/6537916\""
   ]
  },
  {
   "cell_type": "code",
   "execution_count": 20,
   "id": "b469be5f-02fc-40e0-906f-76872344083b",
   "metadata": {},
   "outputs": [
    {
     "ename": "NoBrokersAvailable",
     "evalue": "NoBrokersAvailable",
     "output_type": "error",
     "traceback": [
      "\u001b[31m---------------------------------------------------------------------------\u001b[39m",
      "\u001b[31mNoBrokersAvailable\u001b[39m                        Traceback (most recent call last)",
      "\u001b[36mCell\u001b[39m\u001b[36m \u001b[39m\u001b[32mIn[20]\u001b[39m\u001b[32m, line 2\u001b[39m\n\u001b[32m      1\u001b[39m \u001b[38;5;66;03m# Kafka 生产者\u001b[39;00m\n\u001b[32m----> \u001b[39m\u001b[32m2\u001b[39m producer = \u001b[43mKafkaProducer\u001b[49m\u001b[43m(\u001b[49m\n\u001b[32m      3\u001b[39m \u001b[43m    \u001b[49m\u001b[43mbootstrap_servers\u001b[49m\u001b[43m=\u001b[49m\u001b[43mKAFKA_SERVER\u001b[49m\u001b[43m,\u001b[49m\n\u001b[32m      4\u001b[39m \u001b[43m    \u001b[49m\u001b[43mvalue_serializer\u001b[49m\u001b[43m=\u001b[49m\u001b[38;5;28;43;01mlambda\u001b[39;49;00m\u001b[43m \u001b[49m\u001b[43mv\u001b[49m\u001b[43m:\u001b[49m\u001b[43m \u001b[49m\u001b[43mjson\u001b[49m\u001b[43m.\u001b[49m\u001b[43mdumps\u001b[49m\u001b[43m(\u001b[49m\u001b[43mv\u001b[49m\u001b[43m)\u001b[49m\u001b[43m.\u001b[49m\u001b[43mencode\u001b[49m\u001b[43m(\u001b[49m\u001b[33;43m\"\u001b[39;49m\u001b[33;43mutf-8\u001b[39;49m\u001b[33;43m\"\u001b[39;49m\u001b[43m)\u001b[49m\n\u001b[32m      5\u001b[39m \u001b[43m)\u001b[49m\n",
      "\u001b[36mFile \u001b[39m\u001b[32mC:\\develop\\projects\\python-stock\\venv312\\Lib\\site-packages\\kafka\\producer\\kafka.py:383\u001b[39m, in \u001b[36mKafkaProducer.__init__\u001b[39m\u001b[34m(self, **configs)\u001b[39m\n\u001b[32m    380\u001b[39m reporters = [reporter() \u001b[38;5;28;01mfor\u001b[39;00m reporter \u001b[38;5;129;01min\u001b[39;00m \u001b[38;5;28mself\u001b[39m.config[\u001b[33m'\u001b[39m\u001b[33mmetric_reporters\u001b[39m\u001b[33m'\u001b[39m]]\n\u001b[32m    381\u001b[39m \u001b[38;5;28mself\u001b[39m._metrics = Metrics(metric_config, reporters)\n\u001b[32m--> \u001b[39m\u001b[32m383\u001b[39m client = \u001b[38;5;28;43mself\u001b[39;49m\u001b[43m.\u001b[49m\u001b[43mconfig\u001b[49m\u001b[43m[\u001b[49m\u001b[33;43m'\u001b[39;49m\u001b[33;43mkafka_client\u001b[39;49m\u001b[33;43m'\u001b[39;49m\u001b[43m]\u001b[49m\u001b[43m(\u001b[49m\n\u001b[32m    384\u001b[39m \u001b[43m    \u001b[49m\u001b[43mmetrics\u001b[49m\u001b[43m=\u001b[49m\u001b[38;5;28;43mself\u001b[39;49m\u001b[43m.\u001b[49m\u001b[43m_metrics\u001b[49m\u001b[43m,\u001b[49m\u001b[43m \u001b[49m\u001b[43mmetric_group_prefix\u001b[49m\u001b[43m=\u001b[49m\u001b[33;43m'\u001b[39;49m\u001b[33;43mproducer\u001b[39;49m\u001b[33;43m'\u001b[39;49m\u001b[43m,\u001b[49m\n\u001b[32m    385\u001b[39m \u001b[43m    \u001b[49m\u001b[43mwakeup_timeout_ms\u001b[49m\u001b[43m=\u001b[49m\u001b[38;5;28;43mself\u001b[39;49m\u001b[43m.\u001b[49m\u001b[43mconfig\u001b[49m\u001b[43m[\u001b[49m\u001b[33;43m'\u001b[39;49m\u001b[33;43mmax_block_ms\u001b[39;49m\u001b[33;43m'\u001b[39;49m\u001b[43m]\u001b[49m\u001b[43m,\u001b[49m\n\u001b[32m    386\u001b[39m \u001b[43m    \u001b[49m\u001b[43m*\u001b[49m\u001b[43m*\u001b[49m\u001b[38;5;28;43mself\u001b[39;49m\u001b[43m.\u001b[49m\u001b[43mconfig\u001b[49m\u001b[43m)\u001b[49m\n\u001b[32m    388\u001b[39m \u001b[38;5;66;03m# Get auto-discovered version from client if necessary\u001b[39;00m\n\u001b[32m    389\u001b[39m \u001b[38;5;28;01mif\u001b[39;00m \u001b[38;5;28mself\u001b[39m.config[\u001b[33m'\u001b[39m\u001b[33mapi_version\u001b[39m\u001b[33m'\u001b[39m] \u001b[38;5;129;01mis\u001b[39;00m \u001b[38;5;28;01mNone\u001b[39;00m:\n",
      "\u001b[36mFile \u001b[39m\u001b[32mC:\\develop\\projects\\python-stock\\venv312\\Lib\\site-packages\\kafka\\client_async.py:234\u001b[39m, in \u001b[36mKafkaClient.__init__\u001b[39m\u001b[34m(self, **configs)\u001b[39m\n\u001b[32m    232\u001b[39m \u001b[38;5;28;01mif\u001b[39;00m \u001b[38;5;28mself\u001b[39m.config[\u001b[33m'\u001b[39m\u001b[33mapi_version\u001b[39m\u001b[33m'\u001b[39m] \u001b[38;5;129;01mis\u001b[39;00m \u001b[38;5;28;01mNone\u001b[39;00m:\n\u001b[32m    233\u001b[39m     check_timeout = \u001b[38;5;28mself\u001b[39m.config[\u001b[33m'\u001b[39m\u001b[33mapi_version_auto_timeout_ms\u001b[39m\u001b[33m'\u001b[39m] / \u001b[32m1000\u001b[39m\n\u001b[32m--> \u001b[39m\u001b[32m234\u001b[39m     \u001b[38;5;28mself\u001b[39m.config[\u001b[33m'\u001b[39m\u001b[33mapi_version\u001b[39m\u001b[33m'\u001b[39m] = \u001b[38;5;28;43mself\u001b[39;49m\u001b[43m.\u001b[49m\u001b[43mcheck_version\u001b[49m\u001b[43m(\u001b[49m\u001b[43mtimeout\u001b[49m\u001b[43m=\u001b[49m\u001b[43mcheck_timeout\u001b[49m\u001b[43m)\u001b[49m\n\u001b[32m    236\u001b[39m \u001b[38;5;28mself\u001b[39m._raise_upon_socket_err_during_wakeup = \u001b[38;5;28mself\u001b[39m.config[\u001b[33m'\u001b[39m\u001b[33mraise_upon_socket_err_during_wakeup\u001b[39m\u001b[33m'\u001b[39m]\n",
      "\u001b[36mFile \u001b[39m\u001b[32mC:\\develop\\projects\\python-stock\\venv312\\Lib\\site-packages\\kafka\\client_async.py:929\u001b[39m, in \u001b[36mKafkaClient.check_version\u001b[39m\u001b[34m(self, node_id, timeout, strict)\u001b[39m\n\u001b[32m    926\u001b[39m \u001b[38;5;66;03m# Timeout\u001b[39;00m\n\u001b[32m    927\u001b[39m \u001b[38;5;28;01melse\u001b[39;00m:\n\u001b[32m    928\u001b[39m     \u001b[38;5;28mself\u001b[39m._lock.release()\n\u001b[32m--> \u001b[39m\u001b[32m929\u001b[39m     \u001b[38;5;28;01mraise\u001b[39;00m Errors.NoBrokersAvailable()\n",
      "\u001b[31mNoBrokersAvailable\u001b[39m: NoBrokersAvailable"
     ]
    }
   ],
   "source": [
    "# Kafka 生产者\n",
    "producer = KafkaProducer(\n",
    "    bootstrap_servers=KAFKA_SERVER,\n",
    "    value_serializer=lambda v: json.dumps(v).encode(\"utf-8\")\n",
    ")"
   ]
  },
  {
   "cell_type": "code",
   "execution_count": null,
   "id": "21e07abc-924f-4c66-8432-8de7ff6123cb",
   "metadata": {},
   "outputs": [],
   "source": []
  }
 ],
 "metadata": {
  "kernelspec": {
   "display_name": "Python 3 (ipykernel)",
   "language": "python",
   "name": "python3"
  },
  "language_info": {
   "codemirror_mode": {
    "name": "ipython",
    "version": 3
   },
   "file_extension": ".py",
   "mimetype": "text/x-python",
   "name": "python",
   "nbconvert_exporter": "python",
   "pygments_lexer": "ipython3",
   "version": "3.12.0"
  }
 },
 "nbformat": 4,
 "nbformat_minor": 5
}
